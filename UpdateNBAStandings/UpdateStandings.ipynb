{
 "cells": [
  {
   "cell_type": "code",
   "execution_count": 1,
   "id": "initial_id",
   "metadata": {
    "collapsed": true,
    "ExecuteTime": {
     "end_time": "2024-03-14T17:49:37.286906Z",
     "start_time": "2024-03-14T17:49:35.320214Z"
    }
   },
   "outputs": [
    {
     "name": "stdout",
     "output_type": "stream",
     "text": [
      "['Celtics']\n",
      "['Cavaliers']\n",
      "['Bucks']\n",
      "['Knicks']\n",
      "['Magic']\n",
      "['76ers']\n",
      "['Pacers']\n",
      "['Heat']\n",
      "['Bulls']\n",
      "['Hawks']\n",
      "['Nets']\n",
      "['Raptors']\n",
      "['Hornets']\n",
      "['Pistons']\n",
      "['Wizards']\n",
      "['Nuggets']\n",
      "['Thunder']\n",
      "['Timberwolves']\n",
      "['Clippers']\n",
      "['Pelicans']\n",
      "['Kings']\n",
      "['Suns']\n",
      "['Mavericks']\n",
      "['Lakers']\n",
      "['Warriors']\n",
      "['Rockets']\n",
      "['Jazz']\n",
      "['Grizzlies']\n",
      "['Trail Blazers']\n",
      "['Spurs']\n"
     ]
    }
   ],
   "source": [
    "# Initalizing Network request\n",
    "import requests\n",
    "from bs4 import BeautifulSoup\n",
    "\n",
    "# Standings URL\n",
    "StandingsULR = \"https://www.foxsports.com/nba/standings\" \n",
    "\n",
    "# Saving file as HTML information\n",
    "data = requests.get(StandingsULR)\n",
    "\n",
    "# Creating new file to hold the HTML data (Or overwriting it if already exisiting)\n",
    "with open(\"NBAStandingsInformation.html\", \"w+\") as f:\n",
    "    f.write(data.text)\n",
    "    \n",
    "# Reading our initalized data\n",
    "with open(\"NBAStandingsInformation.html\") as f:\n",
    "    page = f.read()\n",
    "\n",
    "# Intalizing BeautifulSoup\n",
    "soup = BeautifulSoup(page, \"html.parser\")"
   ]
  },
  {
   "cell_type": "code",
   "outputs": [],
   "source": [
    "# Getting Inital Team information\n",
    "\n",
    "# Extracting Information About the Eastern Conference Standings\n",
    "eastern_standings_table = soup.find(id=\"live-standings-table-0\")\n",
    "eastern_standings_list = []\n",
    "\n",
    "# Check if the table is found\n",
    "if eastern_standings_table:\n",
    "    # Extract information from the table\n",
    "    # [1:] makes it start the list indexing from the second row\n",
    "    eastern_rows = eastern_standings_table.find_all('tr')[1:]    \n",
    "    for eastern_rows in eastern_rows:\n",
    "        # Extract data from each cell in the row\n",
    "        cells = eastern_rows.find_all(['th', 'td'])[1]\n",
    "        eastern_row_data = [cell.get_text(strip=True) for cell in cells if cell.get_text(strip=True)]\n",
    "        eastern_standings_list.append((eastern_row_data))\n",
    "\n",
    "        \n",
    "        # Print the data for each row\n",
    "        print(eastern_row_data)\n",
    "else:\n",
    "    print(\"Table Not Found\")\n",
    "    \n",
    "    \n",
    "# Extracting Information about the Western Conference Standings\n",
    "western_standings_table = soup.find(id=\"live-standings-table-1\")\n",
    "\n",
    "western_standings_list = []\n",
    "\n",
    "# Checking to see if the table is found\n",
    "if western_standings_table:\n",
    "    # Extract information from the table\n",
    "    # [1:] makes it start the list indexing from the second row\n",
    "    western_rows = western_standings_table.find_all('tr')[1:]    \n",
    "    for western_rows in western_rows:\n",
    "        # Extract data from each cell in the row\n",
    "        cells = western_rows.find_all(['th', 'td'])[1]\n",
    "        \n",
    "        # If the column is empty, then do not include it\n",
    "        western_row_data = [cell.get_text(strip=True) for cell in cells if cell.get_text(strip=True)]\n",
    "        western_standings_list.append((western_row_data))\n",
    "        \n",
    "        # Print the data for each row\n",
    "        print(western_row_data)\n",
    "else:\n",
    "    print(\"Table Not Found\")"
   ],
   "metadata": {
    "collapsed": false
   },
   "id": "b6e264299057db17"
  },
  {
   "cell_type": "code",
   "outputs": [],
   "source": [
    "# Updating Team Win Percent\n",
    "eastern_winpercent_data = []\n",
    "western_winpercent_data = []\n",
    "\n",
    "if eastern_standings_table:\n",
    "    # Extract information from the table\n",
    "    # [1:] makes it start the list indexing from the second row\n",
    "    eastern_rows = eastern_standings_table.find_all('tr') [1:] \n",
    "    for eastern_rows in eastern_rows:\n",
    "        # Extract data from each cell in the row\n",
    "        cells = eastern_rows.find_all(['th', 'td'])[3]\n",
    "        eastern_winpercent_data.append([cell.get_text(strip=True) for cell in cells if cell.get_text(strip=True)])\n",
    "        # Print the data for each row\n",
    "        print(eastern_winpercent_data)\n",
    "else:\n",
    "    print(\"Table Not Found\")\n",
    "    \n",
    "# Western conference Information\n",
    "if western_standings_table:\n",
    "    # Extract information from the table\n",
    "    # [1:] makes it start the list indexing from the second row\n",
    "    western_rows = western_standings_table.find_all('tr') [1:] \n",
    "    for western_rows in western_rows:\n",
    "        # Extract data from each cell in the row\n",
    "        cells = western_rows.find_all(['th', 'td'])[3]\n",
    "        western_winpercent_data.append([cell.get_text(strip=True) for cell in cells if cell.get_text(strip=True)])\n",
    "        # Print the data for each row\n",
    "        print(western_winpercent_data)\n",
    "else:\n",
    "    print(\"Table Not Found\")\n"
   ],
   "metadata": {
    "collapsed": false
   },
   "id": "facb3add667157a6"
  },
  {
   "cell_type": "code",
   "outputs": [],
   "source": [
    "# Adding winpercent into table\n",
    "# Adding the win percentage to the Eastern and Western Tables\n",
    "for team_percent in eastern_winpercent_data:\n",
    "    cursor.execute(\"INSERT INTO EASTERN(winpercent) VALUES(%s) where \", (team_percent,))\n",
    "    mydb.commit()"
   ],
   "metadata": {
    "collapsed": false
   },
   "id": "daa35c19d24ddd6d"
  },
  {
   "cell_type": "code",
   "outputs": [],
   "source": [],
   "metadata": {
    "collapsed": false
   },
   "id": "cb5c3944b672f0f3"
  }
 ],
 "metadata": {
  "kernelspec": {
   "display_name": "Python 3",
   "language": "python",
   "name": "python3"
  },
  "language_info": {
   "codemirror_mode": {
    "name": "ipython",
    "version": 2
   },
   "file_extension": ".py",
   "mimetype": "text/x-python",
   "name": "python",
   "nbconvert_exporter": "python",
   "pygments_lexer": "ipython2",
   "version": "2.7.6"
  }
 },
 "nbformat": 4,
 "nbformat_minor": 5
}
