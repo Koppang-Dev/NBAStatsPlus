{
 "cells": [
  {
   "cell_type": "code",
   "execution_count": 12,
   "id": "initial_id",
   "metadata": {
    "collapsed": true,
    "ExecuteTime": {
     "end_time": "2024-03-14T18:47:41.073124Z",
     "start_time": "2024-03-14T18:47:40.399619Z"
    }
   },
   "outputs": [],
   "source": [
    "# Initalizing Network request\n",
    "import requests\n",
    "from bs4 import BeautifulSoup\n",
    "# Standings URL\n",
    "StandingsULR = \"https://www.foxsports.com/nba/standings\" \n",
    "\n",
    "# Saving file as HTML information\n",
    "data = requests.get(StandingsULR)\n",
    "\n",
    "# Creating new file to hold the HTML data (Or overwriting it if already exisiting)\n",
    "with open(\"NBAStandingsInformation.html\", \"w+\") as f:\n",
    "    f.write(data.text)\n",
    "    \n",
    "# Reading our initalized data\n",
    "with open(\"NBAStandingsInformation.html\") as f:\n",
    "    page = f.read()\n",
    "\n",
    "# Intalizing BeautifulSoup\n",
    "soup = BeautifulSoup(page, \"html.parser\")"
   ]
  },
  {
   "cell_type": "code",
   "outputs": [
    {
     "name": "stdout",
     "output_type": "stream",
     "text": [
      "Requirement already satisfied: mysql-connector-python in ./.venv/lib/python3.12/site-packages (8.3.0)\r\n",
      "\r\n",
      "\u001B[1m[\u001B[0m\u001B[34;49mnotice\u001B[0m\u001B[1;39;49m]\u001B[0m\u001B[39;49m A new release of pip is available: \u001B[0m\u001B[31;49m23.2.1\u001B[0m\u001B[39;49m -> \u001B[0m\u001B[32;49m24.0\u001B[0m\r\n",
      "\u001B[1m[\u001B[0m\u001B[34;49mnotice\u001B[0m\u001B[1;39;49m]\u001B[0m\u001B[39;49m To update, run: \u001B[0m\u001B[32;49mpip install --upgrade pip\u001B[0m\r\n",
      "<mysql.connector.connection_cext.CMySQLConnection object at 0x112b742c0>\n"
     ]
    }
   ],
   "source": [
    "# Now we have to connect to the database and add the information into it\n",
    "!pip install mysql-connector-python\n",
    "import mysql.connector\n",
    "\n",
    "# Creating our database instance\n",
    "mydb = mysql.connector.connect(\n",
    "    host=\"localhost\",\n",
    "    username=\"root\",\n",
    "    passwd=\"Ril-50702469\",\n",
    "    database=\"STANDINGS\"\n",
    ")\n",
    "\n",
    "# Printing database connection to test\n",
    "print(mydb)\n",
    "\n",
    "# Initalizing our database cursor\n",
    "cursor = mydb.cursor()"
   ],
   "metadata": {
    "collapsed": false,
    "ExecuteTime": {
     "end_time": "2024-03-14T19:02:17.578546Z",
     "start_time": "2024-03-14T19:02:16.799644Z"
    }
   },
   "id": "6000719be3e8ceb5",
   "execution_count": 28
  },
  {
   "cell_type": "code",
   "outputs": [
    {
     "name": "stdout",
     "output_type": "stream",
     "text": [
      "['Celtics']\n",
      "['Cavaliers']\n",
      "['Bucks']\n",
      "['Knicks']\n",
      "['Magic']\n",
      "['76ers']\n",
      "['Pacers']\n",
      "['Heat']\n",
      "['Bulls']\n",
      "['Hawks']\n",
      "['Nets']\n",
      "['Raptors']\n",
      "['Hornets']\n",
      "['Pistons']\n",
      "['Wizards']\n",
      "['Nuggets']\n",
      "['Thunder']\n",
      "['Timberwolves']\n",
      "['Clippers']\n",
      "['Pelicans']\n",
      "['Kings']\n",
      "['Suns']\n",
      "['Mavericks']\n",
      "['Lakers']\n",
      "['Warriors']\n",
      "['Rockets']\n",
      "['Jazz']\n",
      "['Grizzlies']\n",
      "['Trail Blazers']\n",
      "['Spurs']\n"
     ]
    }
   ],
   "source": [
    "# Getting Inital Team information\n",
    "\n",
    "# Extracting Information About the Eastern Conference Standings\n",
    "eastern_standings_table = soup.find(id=\"live-standings-table-0\")\n",
    "eastern_standings_list = []\n",
    "\n",
    "# Check if the table is found\n",
    "if eastern_standings_table:\n",
    "    # Extract information from the table\n",
    "    # [1:] makes it start the list indexing from the second row\n",
    "    eastern_rows = eastern_standings_table.find_all('tr')[1:]    \n",
    "    for eastern_rows in eastern_rows:\n",
    "        # Extract data from each cell in the row\n",
    "        cells = eastern_rows.find_all(['th', 'td'])[1]\n",
    "        eastern_row_data = [cell.get_text(strip=True) for cell in cells if cell.get_text(strip=True)]\n",
    "        eastern_standings_list.append((eastern_row_data))\n",
    "\n",
    "        \n",
    "        # Print the data for each row\n",
    "        print(eastern_row_data)\n",
    "else:\n",
    "    print(\"Table Not Found\")\n",
    "    \n",
    "    \n",
    "# Extracting Information about the Western Conference Standings\n",
    "western_standings_table = soup.find(id=\"live-standings-table-1\")\n",
    "\n",
    "western_standings_list = []\n",
    "\n",
    "# Checking to see if the table is found\n",
    "if western_standings_table:\n",
    "    # Extract information from the table\n",
    "    # [1:] makes it start the list indexing from the second row\n",
    "    western_rows = western_standings_table.find_all('tr')[1:]    \n",
    "    for western_rows in western_rows:\n",
    "        # Extract data from each cell in the row\n",
    "        cells = western_rows.find_all(['th', 'td'])[1]\n",
    "        \n",
    "        # If the column is empty, then do not include it\n",
    "        western_row_data = [cell.get_text(strip=True) for cell in cells if cell.get_text(strip=True)]\n",
    "        western_standings_list.append((western_row_data))\n",
    "        \n",
    "        # Print the data for each row\n",
    "        print(western_row_data)\n",
    "else:\n",
    "    print(\"Table Not Found\")"
   ],
   "metadata": {
    "collapsed": false,
    "ExecuteTime": {
     "end_time": "2024-03-14T18:47:45.812902Z",
     "start_time": "2024-03-14T18:47:45.809387Z"
    }
   },
   "id": "b6e264299057db17",
   "execution_count": 14
  },
  {
   "cell_type": "code",
   "outputs": [
    {
     "name": "stdout",
     "output_type": "stream",
     "text": [
      "[['.785']]\n",
      "[['.785'], ['.636']]\n",
      "[['.785'], ['.636'], ['.636']]\n",
      "[['.785'], ['.636'], ['.636'], ['.585']]\n",
      "[['.785'], ['.636'], ['.636'], ['.585'], ['.576']]\n",
      "[['.785'], ['.636'], ['.636'], ['.585'], ['.576'], ['.554']]\n",
      "[['.785'], ['.636'], ['.636'], ['.585'], ['.576'], ['.554'], ['.552']]\n",
      "[['.785'], ['.636'], ['.636'], ['.585'], ['.576'], ['.554'], ['.552'], ['.538']]\n",
      "[['.785'], ['.636'], ['.636'], ['.585'], ['.576'], ['.554'], ['.552'], ['.538'], ['.485']]\n",
      "[['.785'], ['.636'], ['.636'], ['.585'], ['.576'], ['.554'], ['.552'], ['.538'], ['.485'], ['.446']]\n",
      "[['.785'], ['.636'], ['.636'], ['.585'], ['.576'], ['.554'], ['.552'], ['.538'], ['.485'], ['.446'], ['.394']]\n",
      "[['.785'], ['.636'], ['.636'], ['.585'], ['.576'], ['.554'], ['.552'], ['.538'], ['.485'], ['.446'], ['.394'], ['.348']]\n",
      "[['.785'], ['.636'], ['.636'], ['.585'], ['.576'], ['.554'], ['.552'], ['.538'], ['.485'], ['.446'], ['.394'], ['.348'], ['.258']]\n",
      "[['.785'], ['.636'], ['.636'], ['.585'], ['.576'], ['.554'], ['.552'], ['.538'], ['.485'], ['.446'], ['.394'], ['.348'], ['.258'], ['.185']]\n",
      "[['.785'], ['.636'], ['.636'], ['.585'], ['.576'], ['.554'], ['.552'], ['.538'], ['.485'], ['.446'], ['.394'], ['.348'], ['.258'], ['.185'], ['.169']]\n",
      "[['.697']]\n",
      "[['.697'], ['.692']]\n",
      "[['.697'], ['.692'], ['.682']]\n",
      "[['.697'], ['.692'], ['.682'], ['.641']]\n",
      "[['.697'], ['.692'], ['.682'], ['.641'], ['.600']]\n",
      "[['.697'], ['.692'], ['.682'], ['.641'], ['.600'], ['.585']]\n",
      "[['.697'], ['.692'], ['.682'], ['.641'], ['.600'], ['.585'], ['.585']]\n",
      "[['.697'], ['.692'], ['.682'], ['.641'], ['.600'], ['.585'], ['.585'], ['.576']]\n",
      "[['.697'], ['.692'], ['.682'], ['.641'], ['.600'], ['.585'], ['.585'], ['.576'], ['.537']]\n",
      "[['.697'], ['.692'], ['.682'], ['.641'], ['.600'], ['.585'], ['.585'], ['.576'], ['.537'], ['.523']]\n",
      "[['.697'], ['.692'], ['.682'], ['.641'], ['.600'], ['.585'], ['.585'], ['.576'], ['.537'], ['.523'], ['.462']]\n",
      "[['.697'], ['.692'], ['.682'], ['.641'], ['.600'], ['.585'], ['.585'], ['.576'], ['.537'], ['.523'], ['.462'], ['.431']]\n",
      "[['.697'], ['.692'], ['.682'], ['.641'], ['.600'], ['.585'], ['.585'], ['.576'], ['.537'], ['.523'], ['.462'], ['.431'], ['.343']]\n",
      "[['.697'], ['.692'], ['.682'], ['.641'], ['.600'], ['.585'], ['.585'], ['.576'], ['.537'], ['.523'], ['.462'], ['.431'], ['.343'], ['.292']]\n",
      "[['.697'], ['.692'], ['.682'], ['.641'], ['.600'], ['.585'], ['.585'], ['.576'], ['.537'], ['.523'], ['.462'], ['.431'], ['.343'], ['.292'], ['.212']]\n"
     ]
    }
   ],
   "source": [
    "# Updating Team Win Percent\n",
    "eastern_winpercent_data = []\n",
    "western_winpercent_data = []\n",
    "\n",
    "if eastern_standings_table:\n",
    "    # Extract information from the table\n",
    "    # [1:] makes it start the list indexing from the second row\n",
    "    eastern_rows = eastern_standings_table.find_all('tr') [1:] \n",
    "    for eastern_rows in eastern_rows:\n",
    "        # Extract data from each cell in the row\n",
    "        cells = eastern_rows.find_all(['th', 'td'])[3]\n",
    "        eastern_winpercent_data.append([cell.get_text(strip=True) for cell in cells if cell.get_text(strip=True)])\n",
    "        # Print the data for each row\n",
    "        print(eastern_winpercent_data)\n",
    "else:\n",
    "    print(\"Table Not Found\")\n",
    "    \n",
    "# Western conference Information\n",
    "if western_standings_table:\n",
    "    # Extract information from the table\n",
    "    # [1:] makes it start the list indexing from the second row\n",
    "    western_rows = western_standings_table.find_all('tr') [1:] \n",
    "    for western_rows in western_rows:\n",
    "        # Extract data from each cell in the row\n",
    "        cells = western_rows.find_all(['th', 'td'])[3]\n",
    "        western_winpercent_data.append([cell.get_text(strip=True) for cell in cells if cell.get_text(strip=True)])\n",
    "        # Print the data for each row\n",
    "        print(western_winpercent_data)\n",
    "else:\n",
    "    print(\"Table Not Found\")\n",
    "    \n",
    "\n",
    "# Turning the winpercentage list from String to Float\n",
    "eastern_winpercent_data_float = []\n",
    "western_winpercent_data_float = []\n",
    "\n",
    "for i in range(15):\n",
    "    eastern_winpercent_data_float.append(float(eastern_winpercent_data[i][0])) # Casting Eastern Data\n",
    "    western_winpercent_data_float.append(float(western_winpercent_data[i][0])) # Casting Western Data\n"
   ],
   "metadata": {
    "collapsed": false,
    "ExecuteTime": {
     "end_time": "2024-03-14T18:47:50.958673Z",
     "start_time": "2024-03-14T18:47:50.953779Z"
    }
   },
   "id": "facb3add667157a6",
   "execution_count": 15
  },
  {
   "cell_type": "code",
   "outputs": [],
   "source": [
    "# Adding Conference Default Value\n",
    "cursor.execute(\"UPDATE EASTERN SET conference = 'East'\")\n",
    "mydb.commit\n",
    "cursor.execute(\"UPDATE WESTERN SET conference = 'West'\")\n",
    "mydb.commit()"
   ],
   "metadata": {
    "collapsed": false,
    "ExecuteTime": {
     "end_time": "2024-03-14T18:51:00.755110Z",
     "start_time": "2024-03-14T18:51:00.749524Z"
    }
   },
   "id": "9cf0b3d80ddabf7d",
   "execution_count": 17
  },
  {
   "cell_type": "code",
   "outputs": [
    {
     "data": {
      "text/plain": "[['Celtics'],\n ['Cavaliers'],\n ['Bucks'],\n ['Knicks'],\n ['Magic'],\n ['76ers'],\n ['Pacers'],\n ['Heat'],\n ['Bulls'],\n ['Hawks'],\n ['Nets'],\n ['Raptors'],\n ['Hornets'],\n ['Pistons'],\n ['Wizards']]"
     },
     "execution_count": 34,
     "metadata": {},
     "output_type": "execute_result"
    }
   ],
   "source": [
    "eastern_standings_list"
   ],
   "metadata": {
    "collapsed": false,
    "ExecuteTime": {
     "end_time": "2024-03-14T19:04:35.019464Z",
     "start_time": "2024-03-14T19:04:35.016762Z"
    }
   },
   "id": "a32303b072e3dfeb",
   "execution_count": 34
  },
  {
   "cell_type": "code",
   "outputs": [
    {
     "ename": "KeyboardInterrupt",
     "evalue": "",
     "output_type": "error",
     "traceback": [
      "\u001B[0;31m---------------------------------------------------------------------------\u001B[0m",
      "\u001B[0;31mMySQLInterfaceError\u001B[0m                       Traceback (most recent call last)",
      "File \u001B[0;32m~/Documents/NBAStatsPlusGitNew/NBAStatsPlus/UpdateNBAStandings/.venv/lib/python3.12/site-packages/mysql/connector/connection_cext.py:661\u001B[0m, in \u001B[0;36mCMySQLConnection.cmd_query\u001B[0;34m(self, query, raw, buffered, raw_as_string)\u001B[0m\n\u001B[1;32m    660\u001B[0m         query \u001B[38;5;241m=\u001B[39m query\u001B[38;5;241m.\u001B[39mencode(\u001B[38;5;124m\"\u001B[39m\u001B[38;5;124mutf-8\u001B[39m\u001B[38;5;124m\"\u001B[39m)\n\u001B[0;32m--> 661\u001B[0m     \u001B[38;5;28;43mself\u001B[39;49m\u001B[38;5;241;43m.\u001B[39;49m\u001B[43m_cmysql\u001B[49m\u001B[38;5;241;43m.\u001B[39;49m\u001B[43mquery\u001B[49m\u001B[43m(\u001B[49m\n\u001B[1;32m    662\u001B[0m \u001B[43m        \u001B[49m\u001B[43mquery\u001B[49m\u001B[43m,\u001B[49m\n\u001B[1;32m    663\u001B[0m \u001B[43m        \u001B[49m\u001B[43mraw\u001B[49m\u001B[38;5;241;43m=\u001B[39;49m\u001B[43mraw\u001B[49m\u001B[43m,\u001B[49m\n\u001B[1;32m    664\u001B[0m \u001B[43m        \u001B[49m\u001B[43mbuffered\u001B[49m\u001B[38;5;241;43m=\u001B[39;49m\u001B[43mbuffered\u001B[49m\u001B[43m,\u001B[49m\n\u001B[1;32m    665\u001B[0m \u001B[43m        \u001B[49m\u001B[43mraw_as_string\u001B[49m\u001B[38;5;241;43m=\u001B[39;49m\u001B[43mraw_as_string\u001B[49m\u001B[43m,\u001B[49m\n\u001B[1;32m    666\u001B[0m \u001B[43m        \u001B[49m\u001B[43mquery_attrs\u001B[49m\u001B[38;5;241;43m=\u001B[39;49m\u001B[38;5;28;43mself\u001B[39;49m\u001B[38;5;241;43m.\u001B[39;49m\u001B[43mquery_attrs\u001B[49m\u001B[43m,\u001B[49m\n\u001B[1;32m    667\u001B[0m \u001B[43m    \u001B[49m\u001B[43m)\u001B[49m\n\u001B[1;32m    668\u001B[0m \u001B[38;5;28;01mexcept\u001B[39;00m MySQLInterfaceError \u001B[38;5;28;01mas\u001B[39;00m err:\n",
      "\u001B[0;31mMySQLInterfaceError\u001B[0m: Lock wait timeout exceeded; try restarting transaction",
      "\nDuring handling of the above exception, another exception occurred:\n",
      "\u001B[0;31mKeyboardInterrupt\u001B[0m                         Traceback (most recent call last)",
      "Cell \u001B[0;32mIn[36], line 2\u001B[0m\n\u001B[1;32m      1\u001B[0m \u001B[38;5;28;01mfor\u001B[39;00m i, team_name \u001B[38;5;129;01min\u001B[39;00m \u001B[38;5;28menumerate\u001B[39m(eastern_standings_list, start\u001B[38;5;241m=\u001B[39m\u001B[38;5;241m1\u001B[39m):\n\u001B[0;32m----> 2\u001B[0m     \u001B[43mcursor\u001B[49m\u001B[38;5;241;43m.\u001B[39;49m\u001B[43mexecute\u001B[49m\u001B[43m(\u001B[49m\u001B[38;5;124;43m\"\u001B[39;49m\u001B[38;5;124;43mUPDATE EASTERN SET ranking = \u001B[39;49m\u001B[38;5;132;43;01m%s\u001B[39;49;00m\u001B[38;5;124;43m WHERE NAME = \u001B[39;49m\u001B[38;5;132;43;01m%s\u001B[39;49;00m\u001B[38;5;124;43m\"\u001B[39;49m\u001B[43m,\u001B[49m\u001B[43m \u001B[49m\u001B[43m(\u001B[49m\u001B[43mi\u001B[49m\u001B[43m,\u001B[49m\u001B[43m \u001B[49m\u001B[43mteam_name\u001B[49m\u001B[43m[\u001B[49m\u001B[38;5;241;43m0\u001B[39;49m\u001B[43m]\u001B[49m\u001B[43m)\u001B[49m\u001B[43m)\u001B[49m\n\u001B[1;32m      3\u001B[0m     mydb\u001B[38;5;241m.\u001B[39mcommit()\n",
      "File \u001B[0;32m~/Documents/NBAStatsPlusGitNew/NBAStatsPlus/UpdateNBAStandings/.venv/lib/python3.12/site-packages/mysql/connector/cursor_cext.py:374\u001B[0m, in \u001B[0;36mCMySQLCursor.execute\u001B[0;34m(self, operation, params, multi)\u001B[0m\n\u001B[1;32m    369\u001B[0m             \u001B[38;5;28;01mraise\u001B[39;00m ProgrammingError(\n\u001B[1;32m    370\u001B[0m                 \u001B[38;5;124m\"\u001B[39m\u001B[38;5;124mNot all parameters were used in the SQL statement\u001B[39m\u001B[38;5;124m\"\u001B[39m\n\u001B[1;32m    371\u001B[0m             )\n\u001B[1;32m    373\u001B[0m \u001B[38;5;28;01mtry\u001B[39;00m:\n\u001B[0;32m--> 374\u001B[0m     result \u001B[38;5;241m=\u001B[39m \u001B[38;5;28;43mself\u001B[39;49m\u001B[38;5;241;43m.\u001B[39;49m\u001B[43m_cnx\u001B[49m\u001B[38;5;241;43m.\u001B[39;49m\u001B[43mcmd_query\u001B[49m\u001B[43m(\u001B[49m\n\u001B[1;32m    375\u001B[0m \u001B[43m        \u001B[49m\u001B[43mstmt\u001B[49m\u001B[43m,\u001B[49m\n\u001B[1;32m    376\u001B[0m \u001B[43m        \u001B[49m\u001B[43mraw\u001B[49m\u001B[38;5;241;43m=\u001B[39;49m\u001B[38;5;28;43mself\u001B[39;49m\u001B[38;5;241;43m.\u001B[39;49m\u001B[43m_raw\u001B[49m\u001B[43m,\u001B[49m\n\u001B[1;32m    377\u001B[0m \u001B[43m        \u001B[49m\u001B[43mbuffered\u001B[49m\u001B[38;5;241;43m=\u001B[39;49m\u001B[38;5;28;43mself\u001B[39;49m\u001B[38;5;241;43m.\u001B[39;49m\u001B[43m_buffered\u001B[49m\u001B[43m,\u001B[49m\n\u001B[1;32m    378\u001B[0m \u001B[43m        \u001B[49m\u001B[43mraw_as_string\u001B[49m\u001B[38;5;241;43m=\u001B[39;49m\u001B[38;5;28;43mself\u001B[39;49m\u001B[38;5;241;43m.\u001B[39;49m\u001B[43m_raw_as_string\u001B[49m\u001B[43m,\u001B[49m\n\u001B[1;32m    379\u001B[0m \u001B[43m    \u001B[49m\u001B[43m)\u001B[49m\n\u001B[1;32m    380\u001B[0m \u001B[38;5;28;01mexcept\u001B[39;00m MySQLInterfaceError \u001B[38;5;28;01mas\u001B[39;00m err:\n\u001B[1;32m    381\u001B[0m     \u001B[38;5;28;01mraise\u001B[39;00m get_mysql_exception(\n\u001B[1;32m    382\u001B[0m         msg\u001B[38;5;241m=\u001B[39merr\u001B[38;5;241m.\u001B[39mmsg, errno\u001B[38;5;241m=\u001B[39merr\u001B[38;5;241m.\u001B[39merrno, sqlstate\u001B[38;5;241m=\u001B[39merr\u001B[38;5;241m.\u001B[39msqlstate\n\u001B[1;32m    383\u001B[0m     ) \u001B[38;5;28;01mfrom\u001B[39;00m \u001B[38;5;21;01merr\u001B[39;00m\n",
      "File \u001B[0;32m~/Documents/NBAStatsPlusGitNew/NBAStatsPlus/UpdateNBAStandings/.venv/lib/python3.12/site-packages/mysql/connector/opentelemetry/context_propagation.py:74\u001B[0m, in \u001B[0;36mwith_context_propagation.<locals>.wrapper\u001B[0;34m(cnx, *args, **kwargs)\u001B[0m\n\u001B[1;32m     72\u001B[0m \u001B[38;5;250m\u001B[39m\u001B[38;5;124;03m\"\"\"Context propagation decorator.\"\"\"\u001B[39;00m\n\u001B[1;32m     73\u001B[0m \u001B[38;5;28;01mif\u001B[39;00m \u001B[38;5;129;01mnot\u001B[39;00m OTEL_ENABLED \u001B[38;5;129;01mor\u001B[39;00m \u001B[38;5;129;01mnot\u001B[39;00m cnx\u001B[38;5;241m.\u001B[39motel_context_propagation:\n\u001B[0;32m---> 74\u001B[0m     \u001B[38;5;28;01mreturn\u001B[39;00m \u001B[43mmethod\u001B[49m\u001B[43m(\u001B[49m\u001B[43mcnx\u001B[49m\u001B[43m,\u001B[49m\u001B[43m \u001B[49m\u001B[38;5;241;43m*\u001B[39;49m\u001B[43margs\u001B[49m\u001B[43m,\u001B[49m\u001B[43m \u001B[49m\u001B[38;5;241;43m*\u001B[39;49m\u001B[38;5;241;43m*\u001B[39;49m\u001B[43mkwargs\u001B[49m\u001B[43m)\u001B[49m\n\u001B[1;32m     76\u001B[0m current_span \u001B[38;5;241m=\u001B[39m trace\u001B[38;5;241m.\u001B[39mget_current_span()\n\u001B[1;32m     77\u001B[0m tp_header \u001B[38;5;241m=\u001B[39m \u001B[38;5;28;01mNone\u001B[39;00m\n",
      "File \u001B[0;32m~/Documents/NBAStatsPlusGitNew/NBAStatsPlus/UpdateNBAStandings/.venv/lib/python3.12/site-packages/mysql/connector/connection_cext.py:669\u001B[0m, in \u001B[0;36mCMySQLConnection.cmd_query\u001B[0;34m(self, query, raw, buffered, raw_as_string)\u001B[0m\n\u001B[1;32m    661\u001B[0m     \u001B[38;5;28mself\u001B[39m\u001B[38;5;241m.\u001B[39m_cmysql\u001B[38;5;241m.\u001B[39mquery(\n\u001B[1;32m    662\u001B[0m         query,\n\u001B[1;32m    663\u001B[0m         raw\u001B[38;5;241m=\u001B[39mraw,\n\u001B[0;32m   (...)\u001B[0m\n\u001B[1;32m    666\u001B[0m         query_attrs\u001B[38;5;241m=\u001B[39m\u001B[38;5;28mself\u001B[39m\u001B[38;5;241m.\u001B[39mquery_attrs,\n\u001B[1;32m    667\u001B[0m     )\n\u001B[1;32m    668\u001B[0m \u001B[38;5;28;01mexcept\u001B[39;00m MySQLInterfaceError \u001B[38;5;28;01mas\u001B[39;00m err:\n\u001B[0;32m--> 669\u001B[0m     \u001B[38;5;28;01mraise\u001B[39;00m \u001B[43mget_mysql_exception\u001B[49m\u001B[43m(\u001B[49m\n\u001B[1;32m    670\u001B[0m \u001B[43m        \u001B[49m\u001B[43merr\u001B[49m\u001B[38;5;241;43m.\u001B[39;49m\u001B[43merrno\u001B[49m\u001B[43m,\u001B[49m\u001B[43m \u001B[49m\u001B[43mmsg\u001B[49m\u001B[38;5;241;43m=\u001B[39;49m\u001B[43merr\u001B[49m\u001B[38;5;241;43m.\u001B[39;49m\u001B[43mmsg\u001B[49m\u001B[43m,\u001B[49m\u001B[43m \u001B[49m\u001B[43msqlstate\u001B[49m\u001B[38;5;241;43m=\u001B[39;49m\u001B[43merr\u001B[49m\u001B[38;5;241;43m.\u001B[39;49m\u001B[43msqlstate\u001B[49m\n\u001B[1;32m    671\u001B[0m \u001B[43m    \u001B[49m\u001B[43m)\u001B[49m \u001B[38;5;28;01mfrom\u001B[39;00m \u001B[38;5;21;01merr\u001B[39;00m\n\u001B[1;32m    672\u001B[0m \u001B[38;5;28;01mexcept\u001B[39;00m \u001B[38;5;167;01mAttributeError\u001B[39;00m \u001B[38;5;28;01mas\u001B[39;00m err:\n\u001B[1;32m    673\u001B[0m     addr \u001B[38;5;241m=\u001B[39m (\n\u001B[1;32m    674\u001B[0m         \u001B[38;5;28mself\u001B[39m\u001B[38;5;241m.\u001B[39m_unix_socket \u001B[38;5;28;01mif\u001B[39;00m \u001B[38;5;28mself\u001B[39m\u001B[38;5;241m.\u001B[39m_unix_socket \u001B[38;5;28;01melse\u001B[39;00m \u001B[38;5;124mf\u001B[39m\u001B[38;5;124m\"\u001B[39m\u001B[38;5;132;01m{\u001B[39;00m\u001B[38;5;28mself\u001B[39m\u001B[38;5;241m.\u001B[39m_host\u001B[38;5;132;01m}\u001B[39;00m\u001B[38;5;124m:\u001B[39m\u001B[38;5;132;01m{\u001B[39;00m\u001B[38;5;28mself\u001B[39m\u001B[38;5;241m.\u001B[39m_port\u001B[38;5;132;01m}\u001B[39;00m\u001B[38;5;124m\"\u001B[39m\n\u001B[1;32m    675\u001B[0m     )\n",
      "File \u001B[0;32m~/Documents/NBAStatsPlusGitNew/NBAStatsPlus/UpdateNBAStandings/.venv/lib/python3.12/site-packages/mysql/connector/errors.py:222\u001B[0m, in \u001B[0;36mget_mysql_exception\u001B[0;34m(errno, msg, sqlstate, warning)\u001B[0m\n\u001B[1;32m    217\u001B[0m         _CUSTOM_ERROR_EXCEPTIONS[errno] \u001B[38;5;241m=\u001B[39m _exception\n\u001B[1;32m    219\u001B[0m     \u001B[38;5;28;01mreturn\u001B[39;00m _CUSTOM_ERROR_EXCEPTIONS\n\u001B[0;32m--> 222\u001B[0m \u001B[38;5;28;01mdef\u001B[39;00m \u001B[38;5;21mget_mysql_exception\u001B[39m(\n\u001B[1;32m    223\u001B[0m     errno: \u001B[38;5;28mint\u001B[39m,\n\u001B[1;32m    224\u001B[0m     msg: Optional[\u001B[38;5;28mstr\u001B[39m] \u001B[38;5;241m=\u001B[39m \u001B[38;5;28;01mNone\u001B[39;00m,\n\u001B[1;32m    225\u001B[0m     sqlstate: Optional[\u001B[38;5;28mstr\u001B[39m] \u001B[38;5;241m=\u001B[39m \u001B[38;5;28;01mNone\u001B[39;00m,\n\u001B[1;32m    226\u001B[0m     warning: Optional[\u001B[38;5;28mbool\u001B[39m] \u001B[38;5;241m=\u001B[39m \u001B[38;5;28;01mFalse\u001B[39;00m,\n\u001B[1;32m    227\u001B[0m ) \u001B[38;5;241m-\u001B[39m\u001B[38;5;241m>\u001B[39m ErrorTypes:\n\u001B[1;32m    228\u001B[0m \u001B[38;5;250m    \u001B[39m\u001B[38;5;124;03m\"\"\"Get the exception matching the MySQL error\u001B[39;00m\n\u001B[1;32m    229\u001B[0m \n\u001B[1;32m    230\u001B[0m \u001B[38;5;124;03m    This function will return an exception based on the SQLState. The given\u001B[39;00m\n\u001B[0;32m   (...)\u001B[0m\n\u001B[1;32m    236\u001B[0m \u001B[38;5;124;03m    Returns an Exception\u001B[39;00m\n\u001B[1;32m    237\u001B[0m \u001B[38;5;124;03m    \"\"\"\u001B[39;00m\n\u001B[1;32m    238\u001B[0m     \u001B[38;5;28;01mtry\u001B[39;00m:\n",
      "\u001B[0;31mKeyboardInterrupt\u001B[0m: "
     ]
    }
   ],
   "source": [
    "# Adding team name and rankings\n",
    "for i, team_name in enumerate(eastern_standings_list):\n",
    "    cursor.execute(\"UPDATE EASTERN SET ranking = %s WHERE team_name = %s\", (i, team_name[0]))\n",
    "    mydb.commit()"
   ],
   "metadata": {
    "collapsed": false,
    "ExecuteTime": {
     "end_time": "2024-03-14T19:08:03.624160Z",
     "start_time": "2024-03-14T19:07:13.443177Z"
    }
   },
   "id": "cb5c3944b672f0f3",
   "execution_count": 36
  },
  {
   "cell_type": "code",
   "outputs": [
    {
     "ename": "KeyboardInterrupt",
     "evalue": "",
     "output_type": "error",
     "traceback": [
      "\u001B[0;31m---------------------------------------------------------------------------\u001B[0m",
      "\u001B[0;31mMySQLInterfaceError\u001B[0m                       Traceback (most recent call last)",
      "File \u001B[0;32m~/Documents/NBAStatsPlusGitNew/NBAStatsPlus/UpdateNBAStandings/.venv/lib/python3.12/site-packages/mysql/connector/connection_cext.py:661\u001B[0m, in \u001B[0;36mCMySQLConnection.cmd_query\u001B[0;34m(self, query, raw, buffered, raw_as_string)\u001B[0m\n\u001B[1;32m    660\u001B[0m         query \u001B[38;5;241m=\u001B[39m query\u001B[38;5;241m.\u001B[39mencode(\u001B[38;5;124m\"\u001B[39m\u001B[38;5;124mutf-8\u001B[39m\u001B[38;5;124m\"\u001B[39m)\n\u001B[0;32m--> 661\u001B[0m     \u001B[38;5;28;43mself\u001B[39;49m\u001B[38;5;241;43m.\u001B[39;49m\u001B[43m_cmysql\u001B[49m\u001B[38;5;241;43m.\u001B[39;49m\u001B[43mquery\u001B[49m\u001B[43m(\u001B[49m\n\u001B[1;32m    662\u001B[0m \u001B[43m        \u001B[49m\u001B[43mquery\u001B[49m\u001B[43m,\u001B[49m\n\u001B[1;32m    663\u001B[0m \u001B[43m        \u001B[49m\u001B[43mraw\u001B[49m\u001B[38;5;241;43m=\u001B[39;49m\u001B[43mraw\u001B[49m\u001B[43m,\u001B[49m\n\u001B[1;32m    664\u001B[0m \u001B[43m        \u001B[49m\u001B[43mbuffered\u001B[49m\u001B[38;5;241;43m=\u001B[39;49m\u001B[43mbuffered\u001B[49m\u001B[43m,\u001B[49m\n\u001B[1;32m    665\u001B[0m \u001B[43m        \u001B[49m\u001B[43mraw_as_string\u001B[49m\u001B[38;5;241;43m=\u001B[39;49m\u001B[43mraw_as_string\u001B[49m\u001B[43m,\u001B[49m\n\u001B[1;32m    666\u001B[0m \u001B[43m        \u001B[49m\u001B[43mquery_attrs\u001B[49m\u001B[38;5;241;43m=\u001B[39;49m\u001B[38;5;28;43mself\u001B[39;49m\u001B[38;5;241;43m.\u001B[39;49m\u001B[43mquery_attrs\u001B[49m\u001B[43m,\u001B[49m\n\u001B[1;32m    667\u001B[0m \u001B[43m    \u001B[49m\u001B[43m)\u001B[49m\n\u001B[1;32m    668\u001B[0m \u001B[38;5;28;01mexcept\u001B[39;00m MySQLInterfaceError \u001B[38;5;28;01mas\u001B[39;00m err:\n",
      "\u001B[0;31mMySQLInterfaceError\u001B[0m: Lock wait timeout exceeded; try restarting transaction",
      "\nDuring handling of the above exception, another exception occurred:\n",
      "\u001B[0;31mKeyboardInterrupt\u001B[0m                         Traceback (most recent call last)",
      "Cell \u001B[0;32mIn[31], line 4\u001B[0m\n\u001B[1;32m      2\u001B[0m \u001B[38;5;28;01mfor\u001B[39;00m i, win_percentage \u001B[38;5;129;01min\u001B[39;00m \u001B[38;5;28menumerate\u001B[39m(eastern_winpercent_data_float):\n\u001B[1;32m      3\u001B[0m     team_name \u001B[38;5;241m=\u001B[39m eastern_standings_list[i][\u001B[38;5;241m0\u001B[39m]\n\u001B[0;32m----> 4\u001B[0m     \u001B[43mcursor\u001B[49m\u001B[38;5;241;43m.\u001B[39;49m\u001B[43mexecute\u001B[49m\u001B[43m(\u001B[49m\u001B[38;5;124;43m\"\u001B[39;49m\u001B[38;5;124;43mUPDATE EASTERN SET winpercent = \u001B[39;49m\u001B[38;5;132;43;01m%s\u001B[39;49;00m\u001B[38;5;124;43m WHERE NAME = \u001B[39;49m\u001B[38;5;132;43;01m%s\u001B[39;49;00m\u001B[38;5;124;43m\"\u001B[39;49m\u001B[43m,\u001B[49m\u001B[43m \u001B[49m\u001B[43m(\u001B[49m\u001B[43mwin_percentage\u001B[49m\u001B[43m,\u001B[49m\u001B[43m \u001B[49m\u001B[43mteam_name\u001B[49m\u001B[43m)\u001B[49m\u001B[43m)\u001B[49m\n\u001B[1;32m      5\u001B[0m     mydb\u001B[38;5;241m.\u001B[39mcommit()\n\u001B[1;32m      7\u001B[0m \u001B[38;5;66;03m# Update data for the WESTERN conference with win percentage\u001B[39;00m\n",
      "File \u001B[0;32m~/Documents/NBAStatsPlusGitNew/NBAStatsPlus/UpdateNBAStandings/.venv/lib/python3.12/site-packages/mysql/connector/cursor_cext.py:374\u001B[0m, in \u001B[0;36mCMySQLCursor.execute\u001B[0;34m(self, operation, params, multi)\u001B[0m\n\u001B[1;32m    369\u001B[0m             \u001B[38;5;28;01mraise\u001B[39;00m ProgrammingError(\n\u001B[1;32m    370\u001B[0m                 \u001B[38;5;124m\"\u001B[39m\u001B[38;5;124mNot all parameters were used in the SQL statement\u001B[39m\u001B[38;5;124m\"\u001B[39m\n\u001B[1;32m    371\u001B[0m             )\n\u001B[1;32m    373\u001B[0m \u001B[38;5;28;01mtry\u001B[39;00m:\n\u001B[0;32m--> 374\u001B[0m     result \u001B[38;5;241m=\u001B[39m \u001B[38;5;28;43mself\u001B[39;49m\u001B[38;5;241;43m.\u001B[39;49m\u001B[43m_cnx\u001B[49m\u001B[38;5;241;43m.\u001B[39;49m\u001B[43mcmd_query\u001B[49m\u001B[43m(\u001B[49m\n\u001B[1;32m    375\u001B[0m \u001B[43m        \u001B[49m\u001B[43mstmt\u001B[49m\u001B[43m,\u001B[49m\n\u001B[1;32m    376\u001B[0m \u001B[43m        \u001B[49m\u001B[43mraw\u001B[49m\u001B[38;5;241;43m=\u001B[39;49m\u001B[38;5;28;43mself\u001B[39;49m\u001B[38;5;241;43m.\u001B[39;49m\u001B[43m_raw\u001B[49m\u001B[43m,\u001B[49m\n\u001B[1;32m    377\u001B[0m \u001B[43m        \u001B[49m\u001B[43mbuffered\u001B[49m\u001B[38;5;241;43m=\u001B[39;49m\u001B[38;5;28;43mself\u001B[39;49m\u001B[38;5;241;43m.\u001B[39;49m\u001B[43m_buffered\u001B[49m\u001B[43m,\u001B[49m\n\u001B[1;32m    378\u001B[0m \u001B[43m        \u001B[49m\u001B[43mraw_as_string\u001B[49m\u001B[38;5;241;43m=\u001B[39;49m\u001B[38;5;28;43mself\u001B[39;49m\u001B[38;5;241;43m.\u001B[39;49m\u001B[43m_raw_as_string\u001B[49m\u001B[43m,\u001B[49m\n\u001B[1;32m    379\u001B[0m \u001B[43m    \u001B[49m\u001B[43m)\u001B[49m\n\u001B[1;32m    380\u001B[0m \u001B[38;5;28;01mexcept\u001B[39;00m MySQLInterfaceError \u001B[38;5;28;01mas\u001B[39;00m err:\n\u001B[1;32m    381\u001B[0m     \u001B[38;5;28;01mraise\u001B[39;00m get_mysql_exception(\n\u001B[1;32m    382\u001B[0m         msg\u001B[38;5;241m=\u001B[39merr\u001B[38;5;241m.\u001B[39mmsg, errno\u001B[38;5;241m=\u001B[39merr\u001B[38;5;241m.\u001B[39merrno, sqlstate\u001B[38;5;241m=\u001B[39merr\u001B[38;5;241m.\u001B[39msqlstate\n\u001B[1;32m    383\u001B[0m     ) \u001B[38;5;28;01mfrom\u001B[39;00m \u001B[38;5;21;01merr\u001B[39;00m\n",
      "File \u001B[0;32m~/Documents/NBAStatsPlusGitNew/NBAStatsPlus/UpdateNBAStandings/.venv/lib/python3.12/site-packages/mysql/connector/opentelemetry/context_propagation.py:74\u001B[0m, in \u001B[0;36mwith_context_propagation.<locals>.wrapper\u001B[0;34m(cnx, *args, **kwargs)\u001B[0m\n\u001B[1;32m     72\u001B[0m \u001B[38;5;250m\u001B[39m\u001B[38;5;124;03m\"\"\"Context propagation decorator.\"\"\"\u001B[39;00m\n\u001B[1;32m     73\u001B[0m \u001B[38;5;28;01mif\u001B[39;00m \u001B[38;5;129;01mnot\u001B[39;00m OTEL_ENABLED \u001B[38;5;129;01mor\u001B[39;00m \u001B[38;5;129;01mnot\u001B[39;00m cnx\u001B[38;5;241m.\u001B[39motel_context_propagation:\n\u001B[0;32m---> 74\u001B[0m     \u001B[38;5;28;01mreturn\u001B[39;00m \u001B[43mmethod\u001B[49m\u001B[43m(\u001B[49m\u001B[43mcnx\u001B[49m\u001B[43m,\u001B[49m\u001B[43m \u001B[49m\u001B[38;5;241;43m*\u001B[39;49m\u001B[43margs\u001B[49m\u001B[43m,\u001B[49m\u001B[43m \u001B[49m\u001B[38;5;241;43m*\u001B[39;49m\u001B[38;5;241;43m*\u001B[39;49m\u001B[43mkwargs\u001B[49m\u001B[43m)\u001B[49m\n\u001B[1;32m     76\u001B[0m current_span \u001B[38;5;241m=\u001B[39m trace\u001B[38;5;241m.\u001B[39mget_current_span()\n\u001B[1;32m     77\u001B[0m tp_header \u001B[38;5;241m=\u001B[39m \u001B[38;5;28;01mNone\u001B[39;00m\n",
      "File \u001B[0;32m~/Documents/NBAStatsPlusGitNew/NBAStatsPlus/UpdateNBAStandings/.venv/lib/python3.12/site-packages/mysql/connector/connection_cext.py:669\u001B[0m, in \u001B[0;36mCMySQLConnection.cmd_query\u001B[0;34m(self, query, raw, buffered, raw_as_string)\u001B[0m\n\u001B[1;32m    661\u001B[0m     \u001B[38;5;28mself\u001B[39m\u001B[38;5;241m.\u001B[39m_cmysql\u001B[38;5;241m.\u001B[39mquery(\n\u001B[1;32m    662\u001B[0m         query,\n\u001B[1;32m    663\u001B[0m         raw\u001B[38;5;241m=\u001B[39mraw,\n\u001B[0;32m   (...)\u001B[0m\n\u001B[1;32m    666\u001B[0m         query_attrs\u001B[38;5;241m=\u001B[39m\u001B[38;5;28mself\u001B[39m\u001B[38;5;241m.\u001B[39mquery_attrs,\n\u001B[1;32m    667\u001B[0m     )\n\u001B[1;32m    668\u001B[0m \u001B[38;5;28;01mexcept\u001B[39;00m MySQLInterfaceError \u001B[38;5;28;01mas\u001B[39;00m err:\n\u001B[0;32m--> 669\u001B[0m     \u001B[38;5;28;01mraise\u001B[39;00m \u001B[43mget_mysql_exception\u001B[49m\u001B[43m(\u001B[49m\n\u001B[1;32m    670\u001B[0m \u001B[43m        \u001B[49m\u001B[43merr\u001B[49m\u001B[38;5;241;43m.\u001B[39;49m\u001B[43merrno\u001B[49m\u001B[43m,\u001B[49m\u001B[43m \u001B[49m\u001B[43mmsg\u001B[49m\u001B[38;5;241;43m=\u001B[39;49m\u001B[43merr\u001B[49m\u001B[38;5;241;43m.\u001B[39;49m\u001B[43mmsg\u001B[49m\u001B[43m,\u001B[49m\u001B[43m \u001B[49m\u001B[43msqlstate\u001B[49m\u001B[38;5;241;43m=\u001B[39;49m\u001B[43merr\u001B[49m\u001B[38;5;241;43m.\u001B[39;49m\u001B[43msqlstate\u001B[49m\n\u001B[1;32m    671\u001B[0m \u001B[43m    \u001B[49m\u001B[43m)\u001B[49m \u001B[38;5;28;01mfrom\u001B[39;00m \u001B[38;5;21;01merr\u001B[39;00m\n\u001B[1;32m    672\u001B[0m \u001B[38;5;28;01mexcept\u001B[39;00m \u001B[38;5;167;01mAttributeError\u001B[39;00m \u001B[38;5;28;01mas\u001B[39;00m err:\n\u001B[1;32m    673\u001B[0m     addr \u001B[38;5;241m=\u001B[39m (\n\u001B[1;32m    674\u001B[0m         \u001B[38;5;28mself\u001B[39m\u001B[38;5;241m.\u001B[39m_unix_socket \u001B[38;5;28;01mif\u001B[39;00m \u001B[38;5;28mself\u001B[39m\u001B[38;5;241m.\u001B[39m_unix_socket \u001B[38;5;28;01melse\u001B[39;00m \u001B[38;5;124mf\u001B[39m\u001B[38;5;124m\"\u001B[39m\u001B[38;5;132;01m{\u001B[39;00m\u001B[38;5;28mself\u001B[39m\u001B[38;5;241m.\u001B[39m_host\u001B[38;5;132;01m}\u001B[39;00m\u001B[38;5;124m:\u001B[39m\u001B[38;5;132;01m{\u001B[39;00m\u001B[38;5;28mself\u001B[39m\u001B[38;5;241m.\u001B[39m_port\u001B[38;5;132;01m}\u001B[39;00m\u001B[38;5;124m\"\u001B[39m\n\u001B[1;32m    675\u001B[0m     )\n",
      "File \u001B[0;32m~/Documents/NBAStatsPlusGitNew/NBAStatsPlus/UpdateNBAStandings/.venv/lib/python3.12/site-packages/mysql/connector/errors.py:222\u001B[0m, in \u001B[0;36mget_mysql_exception\u001B[0;34m(errno, msg, sqlstate, warning)\u001B[0m\n\u001B[1;32m    217\u001B[0m         _CUSTOM_ERROR_EXCEPTIONS[errno] \u001B[38;5;241m=\u001B[39m _exception\n\u001B[1;32m    219\u001B[0m     \u001B[38;5;28;01mreturn\u001B[39;00m _CUSTOM_ERROR_EXCEPTIONS\n\u001B[0;32m--> 222\u001B[0m \u001B[38;5;28;01mdef\u001B[39;00m \u001B[38;5;21mget_mysql_exception\u001B[39m(\n\u001B[1;32m    223\u001B[0m     errno: \u001B[38;5;28mint\u001B[39m,\n\u001B[1;32m    224\u001B[0m     msg: Optional[\u001B[38;5;28mstr\u001B[39m] \u001B[38;5;241m=\u001B[39m \u001B[38;5;28;01mNone\u001B[39;00m,\n\u001B[1;32m    225\u001B[0m     sqlstate: Optional[\u001B[38;5;28mstr\u001B[39m] \u001B[38;5;241m=\u001B[39m \u001B[38;5;28;01mNone\u001B[39;00m,\n\u001B[1;32m    226\u001B[0m     warning: Optional[\u001B[38;5;28mbool\u001B[39m] \u001B[38;5;241m=\u001B[39m \u001B[38;5;28;01mFalse\u001B[39;00m,\n\u001B[1;32m    227\u001B[0m ) \u001B[38;5;241m-\u001B[39m\u001B[38;5;241m>\u001B[39m ErrorTypes:\n\u001B[1;32m    228\u001B[0m \u001B[38;5;250m    \u001B[39m\u001B[38;5;124;03m\"\"\"Get the exception matching the MySQL error\u001B[39;00m\n\u001B[1;32m    229\u001B[0m \n\u001B[1;32m    230\u001B[0m \u001B[38;5;124;03m    This function will return an exception based on the SQLState. The given\u001B[39;00m\n\u001B[0;32m   (...)\u001B[0m\n\u001B[1;32m    236\u001B[0m \u001B[38;5;124;03m    Returns an Exception\u001B[39;00m\n\u001B[1;32m    237\u001B[0m \u001B[38;5;124;03m    \"\"\"\u001B[39;00m\n\u001B[1;32m    238\u001B[0m     \u001B[38;5;28;01mtry\u001B[39;00m:\n",
      "\u001B[0;31mKeyboardInterrupt\u001B[0m: "
     ]
    }
   ],
   "source": [
    "# Adding win percentages\n",
    "for i, win_percentage in enumerate(eastern_winpercent_data_float):\n",
    "    team_name = eastern_standings_list[i][0]\n",
    "    cursor.execute(\"UPDATE EASTERN SET winpercent = %s WHERE NAME = %s\", (win_percentage, team_name))\n",
    "    mydb.commit()\n",
    "\n",
    "# Update data for the WESTERN conference with win percentage\n",
    "for i, win_percentage in enumerate(western_winpercent_data_float):\n",
    "    team_name = western_standings_list[i][0]\n",
    "    cursor.execute(\"UPDATE WESTERN SET winpercent = %s WHERE NAME = %s\", (win_percentage, team_name))\n",
    "    mydb.commit()"
   ],
   "metadata": {
    "collapsed": false,
    "ExecuteTime": {
     "end_time": "2024-03-14T19:03:33.152035Z",
     "start_time": "2024-03-14T19:02:42.891179Z"
    }
   },
   "id": "86d1429d9515070a",
   "execution_count": 31
  },
  {
   "cell_type": "code",
   "outputs": [
    {
     "name": "stdout",
     "output_type": "stream",
     "text": [
      "[['-']]\n",
      "[['-'], ['9.5']]\n",
      "[['-'], ['9.5'], ['9.5']]\n",
      "[['-'], ['9.5'], ['9.5'], ['13.0']]\n",
      "[['-'], ['9.5'], ['9.5'], ['13.0'], ['13.5']]\n",
      "[['-'], ['9.5'], ['9.5'], ['13.0'], ['13.5'], ['15.0']]\n",
      "[['-'], ['9.5'], ['9.5'], ['13.0'], ['13.5'], ['15.0'], ['15.0']]\n",
      "[['-'], ['9.5'], ['9.5'], ['13.0'], ['13.5'], ['15.0'], ['15.0'], ['16.0']]\n",
      "[['-'], ['9.5'], ['9.5'], ['13.0'], ['13.5'], ['15.0'], ['15.0'], ['16.0'], ['19.5']]\n",
      "[['-'], ['9.5'], ['9.5'], ['13.0'], ['13.5'], ['15.0'], ['15.0'], ['16.0'], ['19.5'], ['22.0']]\n",
      "[['-'], ['9.5'], ['9.5'], ['13.0'], ['13.5'], ['15.0'], ['15.0'], ['16.0'], ['19.5'], ['22.0'], ['25.5']]\n",
      "[['-'], ['9.5'], ['9.5'], ['13.0'], ['13.5'], ['15.0'], ['15.0'], ['16.0'], ['19.5'], ['22.0'], ['25.5'], ['28.5']]\n",
      "[['-'], ['9.5'], ['9.5'], ['13.0'], ['13.5'], ['15.0'], ['15.0'], ['16.0'], ['19.5'], ['22.0'], ['25.5'], ['28.5'], ['34.5']]\n",
      "[['-'], ['9.5'], ['9.5'], ['13.0'], ['13.5'], ['15.0'], ['15.0'], ['16.0'], ['19.5'], ['22.0'], ['25.5'], ['28.5'], ['34.5'], ['39.0']]\n",
      "[['-'], ['9.5'], ['9.5'], ['13.0'], ['13.5'], ['15.0'], ['15.0'], ['16.0'], ['19.5'], ['22.0'], ['25.5'], ['28.5'], ['34.5'], ['39.0'], ['40.0']]\n",
      "[['-']]\n",
      "[['-'], ['0.5']]\n",
      "[['-'], ['0.5'], ['1.0']]\n",
      "[['-'], ['0.5'], ['1.0'], ['4.0']]\n",
      "[['-'], ['0.5'], ['1.0'], ['4.0'], ['6.5']]\n",
      "[['-'], ['0.5'], ['1.0'], ['4.0'], ['6.5'], ['7.5']]\n",
      "[['-'], ['0.5'], ['1.0'], ['4.0'], ['6.5'], ['7.5'], ['7.5']]\n",
      "[['-'], ['0.5'], ['1.0'], ['4.0'], ['6.5'], ['7.5'], ['7.5'], ['8.0']]\n",
      "[['-'], ['0.5'], ['1.0'], ['4.0'], ['6.5'], ['7.5'], ['7.5'], ['8.0'], ['10.5']]\n",
      "[['-'], ['0.5'], ['1.0'], ['4.0'], ['6.5'], ['7.5'], ['7.5'], ['8.0'], ['10.5'], ['11.5']]\n",
      "[['-'], ['0.5'], ['1.0'], ['4.0'], ['6.5'], ['7.5'], ['7.5'], ['8.0'], ['10.5'], ['11.5'], ['15.5']]\n",
      "[['-'], ['0.5'], ['1.0'], ['4.0'], ['6.5'], ['7.5'], ['7.5'], ['8.0'], ['10.5'], ['11.5'], ['15.5'], ['17.5']]\n",
      "[['-'], ['0.5'], ['1.0'], ['4.0'], ['6.5'], ['7.5'], ['7.5'], ['8.0'], ['10.5'], ['11.5'], ['15.5'], ['17.5'], ['23.5']]\n",
      "[['-'], ['0.5'], ['1.0'], ['4.0'], ['6.5'], ['7.5'], ['7.5'], ['8.0'], ['10.5'], ['11.5'], ['15.5'], ['17.5'], ['23.5'], ['26.5']]\n",
      "[['-'], ['0.5'], ['1.0'], ['4.0'], ['6.5'], ['7.5'], ['7.5'], ['8.0'], ['10.5'], ['11.5'], ['15.5'], ['17.5'], ['23.5'], ['26.5'], ['32.0']]\n"
     ]
    }
   ],
   "source": [
    "# Getting gamesback information\n",
    "#  Inserting the Win Percentage Into the Table\n",
    "eastern_games_back= []\n",
    "western_games_back = []\n",
    "\n",
    "if eastern_standings_table:\n",
    "    # Extract information from the table\n",
    "    # [1:] makes it start the list indexing from the second row\n",
    "    eastern_rows = eastern_standings_table.find_all('tr') [1:] \n",
    "    for eastern_rows in eastern_rows:\n",
    "        # Extract data from each cell in the row\n",
    "        cells = eastern_rows.find_all(['th', 'td'])[4]\n",
    "        eastern_games_back.append([cell.get_text(strip=True) for cell in cells if cell.get_text(strip=True)])\n",
    "        # Print the data for each row\n",
    "        print(eastern_games_back)\n",
    "else:\n",
    "    print(\"Table Not Found\")\n",
    "    \n",
    "# Western conference Information\n",
    "if western_standings_table:\n",
    "    # Extract information from the table\n",
    "    # [1:] makes it start the list indexing from the second row\n",
    "    western_rows = western_standings_table.find_all('tr') [1:] \n",
    "    for western_rows in western_rows:\n",
    "        # Extract data from each cell in the row\n",
    "        cells = western_rows.find_all(['th', 'td'])[4]\n",
    "        western_games_back.append([cell.get_text(strip=True) for cell in cells if cell.get_text(strip=True)])\n",
    "        # Print the data for each row\n",
    "        print(western_games_back)\n",
    "else:\n",
    "    print(\"Table Not Found\")\n",
    "    \n",
    "# Editing out the '-' character in the games back list\n",
    "updated_eastern_games_back = []\n",
    "updated_western_games_back = []\n",
    "\n",
    "for i, numbers in enumerate(eastern_games_back):\n",
    "    if (numbers[0] == '-'):\n",
    "        updated_eastern_games_back.append(['0'])\n",
    "    else:\n",
    "        updated_eastern_games_back.append(numbers)\n",
    "        \n",
    "for i, numbers in enumerate(western_games_back):\n",
    "    if (numbers[0] == '-'):\n",
    "        updated_western_games_back.append(['0'])\n",
    "    else:\n",
    "        updated_western_games_back.append(numbers)"
   ],
   "metadata": {
    "collapsed": false,
    "ExecuteTime": {
     "end_time": "2024-03-14T18:52:18.601829Z",
     "start_time": "2024-03-14T18:52:18.599457Z"
    }
   },
   "id": "98875d4e055ae0e7",
   "execution_count": 21
  },
  {
   "cell_type": "code",
   "outputs": [],
   "source": [
    "# Adding games_back information into Eastern and Western Conference Tables\n",
    "for i, total in enumerate(updated_eastern_games_back):\n",
    "    team_name = eastern_standings_list[i][0]\n",
    "    games = total[0] # Because it is inside of an array\n",
    "    cursor.execute(\"UPDATE EASTERN SET games_back = %s WHERE NAME = %s\", (games, team_name))\n",
    "    mydb.commit()\n",
    "\n",
    "for i, total in enumerate(updated_western_games_back):\n",
    "    team_name = western_standings_list[i][0]\n",
    "    games = total[0]\n",
    "    cursor.execute(\"UPDATE WESTERN SET games_back = %s WHERE NAME = %s\", (games, team_name))\n",
    "    mydb.commit()"
   ],
   "metadata": {
    "collapsed": false,
    "ExecuteTime": {
     "end_time": "2024-03-14T18:52:21.403795Z",
     "start_time": "2024-03-14T18:52:21.380967Z"
    }
   },
   "id": "76c0313c92914ee2",
   "execution_count": 22
  },
  {
   "cell_type": "code",
   "outputs": [
    {
     "name": "stdout",
     "output_type": "stream",
     "text": [
      "[['51-14']]\n",
      "[['51-14'], ['42-24']]\n",
      "[['51-14'], ['42-24'], ['42-24']]\n",
      "[['51-14'], ['42-24'], ['42-24'], ['38-27']]\n",
      "[['51-14'], ['42-24'], ['42-24'], ['38-27'], ['38-28']]\n",
      "[['51-14'], ['42-24'], ['42-24'], ['38-27'], ['38-28'], ['36-29']]\n",
      "[['51-14'], ['42-24'], ['42-24'], ['38-27'], ['38-28'], ['36-29'], ['37-30']]\n",
      "[['51-14'], ['42-24'], ['42-24'], ['38-27'], ['38-28'], ['36-29'], ['37-30'], ['35-30']]\n",
      "[['51-14'], ['42-24'], ['42-24'], ['38-27'], ['38-28'], ['36-29'], ['37-30'], ['35-30'], ['32-34']]\n",
      "[['51-14'], ['42-24'], ['42-24'], ['38-27'], ['38-28'], ['36-29'], ['37-30'], ['35-30'], ['32-34'], ['29-36']]\n",
      "[['51-14'], ['42-24'], ['42-24'], ['38-27'], ['38-28'], ['36-29'], ['37-30'], ['35-30'], ['32-34'], ['29-36'], ['26-40']]\n",
      "[['51-14'], ['42-24'], ['42-24'], ['38-27'], ['38-28'], ['36-29'], ['37-30'], ['35-30'], ['32-34'], ['29-36'], ['26-40'], ['23-43']]\n",
      "[['51-14'], ['42-24'], ['42-24'], ['38-27'], ['38-28'], ['36-29'], ['37-30'], ['35-30'], ['32-34'], ['29-36'], ['26-40'], ['23-43'], ['17-49']]\n",
      "[['51-14'], ['42-24'], ['42-24'], ['38-27'], ['38-28'], ['36-29'], ['37-30'], ['35-30'], ['32-34'], ['29-36'], ['26-40'], ['23-43'], ['17-49'], ['12-53']]\n",
      "[['51-14'], ['42-24'], ['42-24'], ['38-27'], ['38-28'], ['36-29'], ['37-30'], ['35-30'], ['32-34'], ['29-36'], ['26-40'], ['23-43'], ['17-49'], ['12-53'], ['11-54']]\n",
      "[['46-20']]\n",
      "[['46-20'], ['45-20']]\n",
      "[['46-20'], ['45-20'], ['45-21']]\n",
      "[['46-20'], ['45-20'], ['45-21'], ['41-23']]\n",
      "[['46-20'], ['45-20'], ['45-21'], ['41-23'], ['39-26']]\n",
      "[['46-20'], ['45-20'], ['45-21'], ['41-23'], ['39-26'], ['38-27']]\n",
      "[['46-20'], ['45-20'], ['45-21'], ['41-23'], ['39-26'], ['38-27'], ['38-27']]\n",
      "[['46-20'], ['45-20'], ['45-21'], ['41-23'], ['39-26'], ['38-27'], ['38-27'], ['38-28']]\n",
      "[['46-20'], ['45-20'], ['45-21'], ['41-23'], ['39-26'], ['38-27'], ['38-27'], ['38-28'], ['36-31']]\n",
      "[['46-20'], ['45-20'], ['45-21'], ['41-23'], ['39-26'], ['38-27'], ['38-27'], ['38-28'], ['36-31'], ['34-31']]\n",
      "[['46-20'], ['45-20'], ['45-21'], ['41-23'], ['39-26'], ['38-27'], ['38-27'], ['38-28'], ['36-31'], ['34-31'], ['30-35']]\n",
      "[['46-20'], ['45-20'], ['45-21'], ['41-23'], ['39-26'], ['38-27'], ['38-27'], ['38-28'], ['36-31'], ['34-31'], ['30-35'], ['28-37']]\n",
      "[['46-20'], ['45-20'], ['45-21'], ['41-23'], ['39-26'], ['38-27'], ['38-27'], ['38-28'], ['36-31'], ['34-31'], ['30-35'], ['28-37'], ['23-44']]\n",
      "[['46-20'], ['45-20'], ['45-21'], ['41-23'], ['39-26'], ['38-27'], ['38-27'], ['38-28'], ['36-31'], ['34-31'], ['30-35'], ['28-37'], ['23-44'], ['19-46']]\n",
      "[['46-20'], ['45-20'], ['45-21'], ['41-23'], ['39-26'], ['38-27'], ['38-27'], ['38-28'], ['36-31'], ['34-31'], ['30-35'], ['28-37'], ['23-44'], ['19-46'], ['14-52']]\n"
     ]
    }
   ],
   "source": [
    "# Finding the wins column from the HTML\n",
    "eastern_wins_loses = []\n",
    "western_wins_loses = []\n",
    "\n",
    "if eastern_standings_table:\n",
    "    # Extract information from the table\n",
    "    # [1:] makes it start the list indexing from the second row\n",
    "    eastern_rows = eastern_standings_table.find_all('tr') [1:] \n",
    "    for eastern_rows in eastern_rows:\n",
    "        # Extract data from each cell in the row\n",
    "        cells = eastern_rows.find_all(['th', 'td'])[2]\n",
    "        eastern_wins_loses.append([cell.get_text(strip=True) for cell in cells if cell.get_text(strip=True)])\n",
    "        # Print the data for each row\n",
    "        print(eastern_wins_loses)\n",
    "else:\n",
    "    print(\"Table Not Found\")\n",
    "    \n",
    "# Western conference Information\n",
    "if western_standings_table:\n",
    "    # Extract information from the table\n",
    "    # [1:] makes it start the list indexing from the second row\n",
    "    western_rows = western_standings_table.find_all('tr') [1:] \n",
    "    for western_rows in western_rows:\n",
    "        # Extract data from each cell in the row\n",
    "        cells = western_rows.find_all(['th', 'td'])[2]\n",
    "        western_wins_loses.append([cell.get_text(strip=True) for cell in cells if cell.get_text(strip=True)])\n",
    "        # Print the data for each row\n",
    "        print(western_wins_loses)\n",
    "else:\n",
    "    print(\"Table Not Found\")\n",
    "    \n",
    "# Singling out the wins total from the string\n",
    "\n",
    "# Variable Declarations\n",
    "eastern_wins = []\n",
    "eastern_loses = []\n",
    "western_wins = []\n",
    "western_loses = []\n",
    "\n",
    "# Singing out the wins and loses\n",
    "for elements in range(15):\n",
    "    # Eastern Conference\n",
    "    eastern_wins.append([int(entry.split('-')[0]) for entry in eastern_wins_loses[elements]])\n",
    "    eastern_loses.append([int(entry.split('-')[1]) for entry in eastern_wins_loses[elements]])\n",
    "    # Western Conference\n",
    "    western_wins.append([int(entry.split('-')[0]) for entry in western_wins_loses[elements]])\n",
    "    western_loses.append([int(entry.split('-')[1]) for entry in western_wins_loses[elements]])"
   ],
   "metadata": {
    "collapsed": false,
    "ExecuteTime": {
     "end_time": "2024-03-14T18:52:23.353575Z",
     "start_time": "2024-03-14T18:52:23.336981Z"
    }
   },
   "id": "dc49c4944570eff6",
   "execution_count": 23
  },
  {
   "cell_type": "code",
   "outputs": [],
   "source": [
    "# Adding wins and losses to the table\n",
    "for i in range(15):\n",
    "    #Eastern\n",
    "    team_name_eastern = eastern_standings_list[i][0] # Getting the where clause\n",
    "    total_wins_eastern = eastern_wins[i][0] # Getting the team's total wins\n",
    "    total_loses_eastern = eastern_loses[i][0] # Getting the team's total loses\n",
    "    \n",
    "    #Western\n",
    "    team_name_western = western_standings_list[i][0] # Getting the where clause\n",
    "    total_wins_western = western_wins[i][0] # Getting the team's total wins\n",
    "    total_loses_western = western_loses[i][0]\n",
    "    \n",
    "    \n",
    "    # Setting the Eastern Conference Wins/Loses\n",
    "    cursor.execute(\"UPDATE EASTERN SET wins = %s WHERE NAME = %s\", (total_wins_eastern, team_name_eastern))\n",
    "    mydb.commit()\n",
    "    cursor.execute(\"UPDATE EASTERN SET loses = %s WHERE NAME = %s\", (total_loses_eastern, team_name_eastern))\n",
    "    mydb.commit()\n",
    "    \n",
    "    # Setting the Western Conference Wins/Loses\n",
    "    cursor.execute(\"UPDATE WESTERN SET wins = %s WHERE NAME = %s\", (total_wins_western, team_name_western))\n",
    "    mydb.commit()\n",
    "    cursor.execute(\"UPDATE WESTERN SET loses = %s WHERE NAME = %s\", (total_loses_western, team_name_western))\n",
    "    mydb.commit()"
   ],
   "metadata": {
    "collapsed": false,
    "ExecuteTime": {
     "end_time": "2024-03-14T18:52:25.211416Z",
     "start_time": "2024-03-14T18:52:25.183632Z"
    }
   },
   "id": "6f0d2b116e2eb441",
   "execution_count": 24
  },
  {
   "cell_type": "code",
   "outputs": [],
   "source": [],
   "metadata": {
    "collapsed": false
   },
   "id": "a70ea2aea3001403"
  }
 ],
 "metadata": {
  "kernelspec": {
   "display_name": "Python 3",
   "language": "python",
   "name": "python3"
  },
  "language_info": {
   "codemirror_mode": {
    "name": "ipython",
    "version": 2
   },
   "file_extension": ".py",
   "mimetype": "text/x-python",
   "name": "python",
   "nbconvert_exporter": "python",
   "pygments_lexer": "ipython2",
   "version": "2.7.6"
  }
 },
 "nbformat": 4,
 "nbformat_minor": 5
}
